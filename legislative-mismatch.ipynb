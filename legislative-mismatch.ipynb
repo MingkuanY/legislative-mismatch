{
 "cells": [
  {
   "cell_type": "markdown",
   "metadata": {},
   "source": [
    "# Legislative Mismatch\n",
    "\n",
    "### Friendly Cities Lab @ Georgia Tech\n",
    "\n",
    "Analyzes discrepancies between U.S. Congress Representatives’ voting records and their districts’ Social Vulnerability Index.\n"
   ]
  },
  {
   "cell_type": "markdown",
   "metadata": {},
   "source": [
    "## Working with Agriculture Data"
   ]
  },
  {
   "cell_type": "code",
   "execution_count": 6,
   "metadata": {},
   "outputs": [
    {
     "name": "stdout",
     "output_type": "stream",
     "text": [
      "{'encoding': 'Windows-1252', 'confidence': 0.73, 'language': ''}\n"
     ]
    }
   ],
   "source": [
    "import chardet\n",
    "\n",
    "file_path = \"./data/cdp.csv\"\n",
    "with open(file_path, \"rb\") as f:\n",
    "  result = chardet.detect(f.read())\n",
    "  encoding = result['encoding']\n",
    "  print(result)"
   ]
  },
  {
   "cell_type": "markdown",
   "metadata": {},
   "source": [
    "Reshape the agriculture data so that each statistic is a column and each row is a congressional district in a state."
   ]
  },
  {
   "cell_type": "code",
   "execution_count": 15,
   "metadata": {},
   "outputs": [
    {
     "name": "stdout",
     "output_type": "stream",
     "text": [
      "Reshaped data saved to reshaped_agriculture_data.csv with 206 columns.\n"
     ]
    }
   ],
   "source": [
    "import pandas as pd\n",
    "\n",
    "file_path = \"./data/cdp.csv\"\n",
    "df = pd.read_csv(file_path, encoding=encoding)\n",
    "\n",
    "df = df.drop_duplicates(subset=[\"State\", \"Congressional District\", \"Label\"], keep=False)\n",
    "reshaped_df = df.pivot(index=[\"State\", \"Congressional District\"], columns=\"Label\", values=\"Value\").reset_index()\n",
    "reshaped_df.to_csv(\"./data/reshaped_agriculture_data.csv\", index=False)\n",
    "\n",
    "num_reshaped_columns = len(reshaped_df.columns)\n",
    "print(f\"Reshaped data saved to reshaped_agriculture_data.csv with {num_reshaped_columns} columns.\")"
   ]
  },
  {
   "cell_type": "markdown",
   "metadata": {},
   "source": [
    "Filter out empty rows and columns to get only the statistics that exist for every congressional district, of which there are 27."
   ]
  },
  {
   "cell_type": "code",
   "execution_count": 57,
   "metadata": {},
   "outputs": [
    {
     "name": "stdout",
     "output_type": "stream",
     "text": [
      "Reshaped data saved to filtered_agriculture_data.csv with 27\n"
     ]
    }
   ],
   "source": [
    "# Drop empty rows (i.e. State no. 36 districts 4-8)\n",
    "filtered_df = reshaped_df.dropna(subset=[col for col in reshaped_df.columns if col not in [\"State\", \"Congressional District\"]], how=\"all\")\n",
    "# Drop columns with empty rows, ensuring that each remaining column has data for each congressional district\n",
    "filtered_df = filtered_df.dropna(axis=1, how=\"any\")\n",
    "filtered_df.to_csv(\"./data/filtered_agriculture_data.csv\", index=False)\n",
    "\n",
    "num_filtered_columns = len(filtered_df.columns)\n",
    "print(f\"Reshaped data saved to filtered_agriculture_data.csv with {num_filtered_columns}\")"
   ]
  },
  {
   "cell_type": "markdown",
   "metadata": {},
   "source": [
    "Rank the variance of each statistic from greatest to least to help determine which statistic to map out."
   ]
  },
  {
   "cell_type": "code",
   "execution_count": 58,
   "metadata": {},
   "outputs": [
    {
     "name": "stdout",
     "output_type": "stream",
     "text": [
      "Column variances ranked from greatest to least:\n",
      "Label\n",
      "Total ($): Market value of products sold                           7.14e+18\n",
      "Total ($): Total farm production expenses                          4.19e+18\n",
      "Total ($): Net cash farm income                                    6.54e+17\n",
      "Total and Per Farm Overview, 2022: Land in farms (acres)           3.12e+13\n",
      "Market Value of Agricultural Products Sold: Total                  7.14e+12\n",
      "Market Value of Agricultural Products Sold: Crops                   2.3e+12\n",
      "Per farm average ($): Market value of products sold                1.77e+11\n",
      "Per farm average ($): Total farm production expenses                  1e+11\n",
      "Per farm average ($): Net cash farm income                         1.77e+10\n",
      "Total Producers                                                    1.06e+08\n",
      "Race: White                                                        9.96e+07\n",
      "Sex: Male                                                          4.57e+07\n",
      "Total and Per Farm Overview, 2022: Number of farms                  3.4e+07\n",
      "Age: 35 -- 64                                                      2.92e+07\n",
      "Sex: Female                                                         1.3e+07\n",
      "Other characteristics: New and beginning farmers                   8.51e+06\n",
      "Farms by Size: 1 to 9 acres (Number)                               4.46e+05\n",
      "Total and Per Farm Overview, 2022: Average size of farm (acres)    1.95e+05\n",
      "Share of Sales by Type (%): Crops                                       729\n",
      "Land in Farms by Use (%): Cropland                                      605\n",
      "Farms by Size: 1 to 9 acres (Percent of Total)                          516\n",
      "Per farm average ($): Percent of state agriculture sales                450\n",
      "Percent of farms that: Hire farm labor                                  163\n",
      "Percent of farms that: Are family farms                                73.4\n",
      "Percent of farms that: Have internet access                            50.8\n",
      "dtype: object\n"
     ]
    }
   ],
   "source": [
    "# Get just the columns holding the statistics\n",
    "statistical_columns = (\n",
    "  filtered_df.drop(columns=[\"State\", \"Congressional District\"])\n",
    "  .replace(r\"[^0-9.\\-]\", \"\", regex=True)\n",
    "  .apply(pd.to_numeric, errors=\"coerce\")\n",
    ")\n",
    "\n",
    "variances = statistical_columns.var(skipna=True)\n",
    "ranked_variances = variances.sort_values(ascending=False).apply(lambda x: f\"{x:.3g}\")\n",
    "\n",
    "print(\"Column variances ranked from greatest to least:\")\n",
    "print(ranked_variances)"
   ]
  },
  {
   "cell_type": "markdown",
   "metadata": {},
   "source": [
    "Create District ID and convert all statistic columns to numbers to join with congressional district map data."
   ]
  },
  {
   "cell_type": "code",
   "execution_count": 63,
   "metadata": {},
   "outputs": [
    {
     "name": "stdout",
     "output_type": "stream",
     "text": [
      "Data ready to join with map.\n"
     ]
    }
   ],
   "source": [
    "join_df = filtered_df.copy()\n",
    "\n",
    "# Pad state and cong district IDs with 0s\n",
    "join_df['State'] = join_df['State'].astype(str).str.zfill(2)\n",
    "join_df['Congressional District'] = join_df['Congressional District'].astype(str).str.zfill(2)\n",
    "\n",
    "# Convert every statistical column to int to display visually on the map\n",
    "join_df = join_df.replace(r\"[^0-9.\\-]\", \"\", regex=True).apply(\n",
    "    lambda col: pd.to_numeric(col, errors='coerce') if col.name not in ['State', 'Congressional District'] else col\n",
    ")\n",
    "\n",
    "# Add new column for district id\n",
    "join_df['District_ID'] = join_df.apply(\n",
    "  lambda row: row['State'] + '00'\n",
    "  if (join_df['State'] == row['State']).sum() == 1 else row['State'] + row['Congressional District'],\n",
    "  axis=1\n",
    ")\n",
    "\n",
    "join_df.to_csv(\"./data/join_agriculture_data.csv\", index=False)\n",
    "print(f\"Data ready to join with map.\")"
   ]
  }
 ],
 "metadata": {
  "kernelspec": {
   "display_name": "Python 3",
   "language": "python",
   "name": "python3"
  },
  "language_info": {
   "codemirror_mode": {
    "name": "ipython",
    "version": 3
   },
   "file_extension": ".py",
   "mimetype": "text/x-python",
   "name": "python",
   "nbconvert_exporter": "python",
   "pygments_lexer": "ipython3",
   "version": "3.11.7"
  }
 },
 "nbformat": 4,
 "nbformat_minor": 2
}
