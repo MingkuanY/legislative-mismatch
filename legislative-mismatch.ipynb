{
 "cells": [
  {
   "cell_type": "markdown",
   "metadata": {},
   "source": [
    "# Legislative Mismatch\n",
    "\n",
    "### Friendly Cities Lab @ Georgia Tech\n",
    "\n",
    "Analyzes discrepancies between U.S. Congress Representatives’ voting records and their districts’ Social Vulnerability Index.\n"
   ]
  },
  {
   "cell_type": "markdown",
   "metadata": {},
   "source": [
    "## Working with Agriculture Data"
   ]
  },
  {
   "cell_type": "code",
   "execution_count": 6,
   "metadata": {},
   "outputs": [
    {
     "name": "stdout",
     "output_type": "stream",
     "text": [
      "{'encoding': 'Windows-1252', 'confidence': 0.73, 'language': ''}\n"
     ]
    }
   ],
   "source": [
    "import chardet\n",
    "\n",
    "file_path = \"./data/cdp.csv\"\n",
    "with open(file_path, \"rb\") as f:\n",
    "  result = chardet.detect(f.read())\n",
    "  encoding = result['encoding']\n",
    "  print(result)"
   ]
  },
  {
   "cell_type": "markdown",
   "metadata": {},
   "source": [
    "Reshape the agriculture data so that each statistic is a column and each row is a congressional district in a state."
   ]
  },
  {
   "cell_type": "code",
   "execution_count": 15,
   "metadata": {},
   "outputs": [
    {
     "name": "stdout",
     "output_type": "stream",
     "text": [
      "Reshaped data saved to reshaped_agriculture_data.csv with 206 columns.\n"
     ]
    }
   ],
   "source": [
    "import pandas as pd\n",
    "\n",
    "file_path = \"./data/cdp.csv\"\n",
    "df = pd.read_csv(file_path, encoding=encoding)\n",
    "\n",
    "df = df.drop_duplicates(subset=[\"State\", \"Congressional District\", \"Label\"], keep=False)\n",
    "reshaped_df = df.pivot(index=[\"State\", \"Congressional District\"], columns=\"Label\", values=\"Value\").reset_index()\n",
    "reshaped_df.to_csv(\"./data/reshaped_agriculture_data.csv\", index=False)\n",
    "\n",
    "num_reshaped_columns = len(reshaped_df.columns)\n",
    "print(f\"Reshaped data saved to reshaped_agriculture_data.csv with {num_reshaped_columns} columns.\")"
   ]
  },
  {
   "cell_type": "markdown",
   "metadata": {},
   "source": [
    "Filter out empty rows and columns to get only the statistics that exist for every congressional district, of which there are 27."
   ]
  },
  {
   "cell_type": "code",
   "execution_count": 17,
   "metadata": {},
   "outputs": [
    {
     "name": "stdout",
     "output_type": "stream",
     "text": [
      "Reshaped data saved to filtered_agriculture_data.csv with 27\n"
     ]
    }
   ],
   "source": [
    "# Drop empty rows (i.e. State no. 36 districts 4-8)\n",
    "filtered_df = reshaped_df.dropna(subset=[col for col in reshaped_df.columns if col not in [\"State\", \"Congressional District\"]], how=\"all\")\n",
    "# Drop columns with empty rows, ensuring that each remaining column has data for each congressional district\n",
    "filtered_df = filtered_df.dropna(axis=1, how=\"any\")\n",
    "filtered_df.to_csv(\"./data/filtered_agriculture_data.csv\", index=False)\n",
    "\n",
    "num_filtered_columns = len(filtered_df.columns)\n",
    "print(f\"Reshaped data saved to filtered_agriculture_data.csv with {num_filtered_columns}\")"
   ]
  }
 ],
 "metadata": {
  "kernelspec": {
   "display_name": "Python 3",
   "language": "python",
   "name": "python3"
  },
  "language_info": {
   "codemirror_mode": {
    "name": "ipython",
    "version": 3
   },
   "file_extension": ".py",
   "mimetype": "text/x-python",
   "name": "python",
   "nbconvert_exporter": "python",
   "pygments_lexer": "ipython3",
   "version": "3.11.7"
  }
 },
 "nbformat": 4,
 "nbformat_minor": 2
}
